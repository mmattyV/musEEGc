{
 "cells": [
  {
   "cell_type": "code",
   "execution_count": 1,
   "metadata": {
    "metadata": {}
   },
   "outputs": [],
   "source": [
    "from modules.constants import *"
   ]
  },
  {
   "cell_type": "code",
   "execution_count": null,
   "metadata": {},
   "outputs": [],
   "source": [
    "def create_dir(path):\n",
    "    if not os.path.exists(path):\n",
    "        os.makedirs(path)\n",
    "\n",
    "create_dir(train_dir)\n",
    "create_dir(val_dir)\n",
    "\n",
    "for i in range(1, num_sub+1):\n",
    "    for j in range(1, num_sess+1):\n",
    "        data_path = f'../ds003774/sub-0{i//10}{i%10}/ses-{j//10}{j%10}/eeg/sub-0{i//10}{i%10}_ses-{j//10}{j%10}_task-MusicListening_run-{j}_eeg.set'\n",
    "        raw = read_raw_eeglab(data_path, preload=True)\n",
    "\n",
    "        # High-pass filter at 0.2 Hz\n",
    "        raw.filter(l_freq=0.2, h_freq=None)\n",
    "\n",
    "        # Remove 50 Hz line noise\n",
    "        raw.notch_filter(freqs=[50])\n",
    "\n",
    "        # Downsample the data to 256 Hz\n",
    "        raw.resample(256)\n",
    "\n",
    "        # Extract EEG data and calculate PSD using Welch's method\n",
    "        picks = pick_types(raw.info, eeg=True, exclude=[])\n",
    "        data, times = raw.get_data(picks=picks, return_times=True)\n",
    "        psds, freqs = psd_array_welch(data, sfreq=raw.info['sfreq'], fmin=2, fmax=40)\n",
    "\n",
    "        # Calculate the mean and threshold for PSD\n",
    "        psd_mean = psds.mean(axis=-1)\n",
    "        psd_threshold = 3 * np.std(psds, axis=-1)  # Calculate the standard deviation along the frequency axis\n",
    "\n",
    "        # Identify bad channels based on spectral criteria\n",
    "        bad_channels = [raw.ch_names[p] for p in picks if psd_mean[p] > psd_threshold[p]]\n",
    "        raw.info['bads'] += bad_channels\n",
    "        raw.interpolate_bads()\n",
    "\n",
    "        # Artifact rejection using ICA\n",
    "        ica = ICA(n_components=20, random_state=99, method='fastica')\n",
    "        ica.fit(raw)\n",
    "        ica.apply(raw)\n",
    "\n",
    "        # Re-reference the data to the average\n",
    "        raw.set_eeg_reference('average', projection=True)\n",
    "\n",
    "        # Save preprocessed data\n",
    "        pre_path = f'pre_eeg_sub-0{i//10}{i%10}_ses-{j//10}{j%10}_eeg.fif'\n",
    "        if i <= 16:\n",
    "            pre_path = os.path.join(train_dir, pre_path)\n",
    "        else:\n",
    "            pre_path = os.path.join(val_dir, pre_path)\n",
    "        raw.save(pre_path, overwrite=True)"
   ]
  }
 ],
 "metadata": {
  "kernelspec": {
   "display_name": ".venv",
   "language": "python",
   "name": "python3"
  },
  "language_info": {
   "codemirror_mode": {
    "name": "ipython",
    "version": 3
   },
   "file_extension": ".py",
   "mimetype": "text/x-python",
   "name": "python",
   "nbconvert_exporter": "python",
   "pygments_lexer": "ipython3",
   "version": "3.9.6"
  }
 },
 "nbformat": 4,
 "nbformat_minor": 2
}
