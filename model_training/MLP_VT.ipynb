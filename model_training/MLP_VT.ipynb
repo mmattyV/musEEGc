{
 "cells": [
  {
   "cell_type": "code",
   "execution_count": 1,
   "metadata": {
    "metadata": {}
   },
   "outputs": [],
   "source": [
    "import sys\n",
    "\n",
    "sys.path.insert(0, '../')\n",
    "\n",
    "from modules.VT_dataset import *\n",
    "from modules.train_prep import *\n",
    "from modules.plot_results import *"
   ]
  },
  {
   "cell_type": "code",
   "execution_count": 2,
   "metadata": {
    "metadata": {}
   },
   "outputs": [],
   "source": [
    "class EEGMLP(nn.Module):\n",
    "    \"\"\"\n",
    "    A multilayer perceptron (MLP) neural network model for EEG data classification.\n",
    "    Args:\n",
    "    - input_size: The number of input features (e.g., number of EEG channels * number of time points per sample).\n",
    "    - num_classes: The number of output classes for the classification task.\n",
    "    \"\"\"\n",
    "    def __init__(self, input_size, num_classes=4):\n",
    "        super(EEGMLP, self).__init__()\n",
    "        # Initialize the base class, nn.Module.\n",
    "        \n",
    "        # Define the architecture of the MLP:\n",
    "        # First fully connected layer from input_size to 512 nodes.\n",
    "        self.fc1 = nn.Linear(input_size, 512)  # First hidden layer\n",
    "        \n",
    "        # Second fully connected layer from 512 to 256 nodes.\n",
    "        self.fc2 = nn.Linear(512, 256)         # Second hidden layer\n",
    "        \n",
    "        # Third fully connected layer from 256 to 128 nodes.\n",
    "        self.fc3 = nn.Linear(256, 128)         # Third hidden layer\n",
    "        \n",
    "        # Output layer: fully connected layer from 128 nodes to num_classes nodes.\n",
    "        self.fc4 = nn.Linear(128, num_classes) # Output layer\n",
    "\n",
    "    def forward(self, x):\n",
    "        \"\"\"\n",
    "        Defines the forward pass of the MLP.\n",
    "        Args:\n",
    "        - x: Input tensor containing a batch of input data.\n",
    "        \n",
    "        Returns:\n",
    "        - x: The output of the network after passing through the layers.\n",
    "        \"\"\"\n",
    "        # Flatten the input tensor to match the expected input dimensions of the first fully connected layer.\n",
    "        # This is necessary if the input tensor has more than two dimensions (e.g., batch_size x channels x data_points).\n",
    "        x = x.view(x.size(0), -1)\n",
    "        \n",
    "        # Apply a ReLU activation function to the output of the first fully connected layer.\n",
    "        x = F.relu(self.fc1(x))  # Activation function for the first layer\n",
    "        \n",
    "        # Apply a ReLU activation function to the output of the second fully connected layer.\n",
    "        x = F.relu(self.fc2(x))  # Activation function for the second layer\n",
    "        \n",
    "        # Apply a ReLU activation function to the output of the third fully connected layer.\n",
    "        x = F.relu(self.fc3(x))  # Activation function for the third layer\n",
    "        \n",
    "        # Output layer: No activation function is applied here because it's common to apply softmax\n",
    "        # or sigmoid separately during the loss computation phase, especially for classification tasks.\n",
    "        x = self.fc4(x)          # Output of the network is the input to the final layer\n",
    "        \n",
    "        return x\n"
   ]
  },
  {
   "cell_type": "code",
   "execution_count": null,
   "metadata": {
    "metadata": {}
   },
   "outputs": [
    {
     "name": "stderr",
     "output_type": "stream",
     "text": [
      " 22%|██▏       | 545/2488 [00:40<01:12, 26.68it/s]"
     ]
    }
   ],
   "source": [
    "# Check if CUDA is available and set the device accordingly\n",
    "if torch.cuda.is_available():\n",
    "    torch.cuda.set_device(cuda_device)  # Use a specific CUDA device if available\n",
    "elif torch.backends.mps.is_available():\n",
    "    mps_device = torch.device(\"mps\")  # Use Metal Performance Shaders (MPS) if on macOS with available support\n",
    "\n",
    "# Define transformations for the datasets\n",
    "data_transforms = {\n",
    "    'train': transforms.Compose([\n",
    "        transforms.ToTensor(),  # Convert images/pil_images to tensor, and also normalizes (0, 1)\n",
    "    ]),\n",
    "    'val': transforms.Compose([\n",
    "        transforms.ToTensor(),\n",
    "    ]),\n",
    "}\n",
    "\n",
    "# Setup datasets and their corresponding loaders\n",
    "dsets = {\n",
    "    'train': RawDataset(train_dir, train_behav_file, data_transforms['train']),\n",
    "    'val': RawDataset(val_dir, val_behav_file, data_transforms['val'])\n",
    "}\n",
    "dset_sizes = {split: len(dsets[split]) for split in ['train', 'val']}  # Get the size of each dataset\n",
    "\n",
    "# Prepare data loaders, applying a weighted sampling strategy to handle class imbalance\n",
    "dset_loaders = {}\n",
    "for split in ['train', 'val']:\n",
    "    targets = np.array([dsets[split].get_label(i) for i in range(len(dsets[split]))])\n",
    "    class_counts = dsets[split].get_class_counts()\n",
    "    class_weights = np.array([1.0 / class_counts[label] if class_counts[label] > 0 else 0 for label in targets])\n",
    "    sampler = WeightedRandomSampler(class_weights, num_samples=len(class_weights), replacement=True)\n",
    "    dset_loaders[split] = torch.utils.data.DataLoader(dsets[split], batch_size=b_size, num_workers=0, sampler=sampler)\n",
    "    print('done making loader:', split)\n",
    "\n",
    "# Initialize the EEGMLP model, loss function, and optimizer\n",
    "model_ft = EEGMLP(input_size=129*1250, num_classes=4)  # Initialize model with specified input size and number of classes\n",
    "criterion = nn.CrossEntropyLoss()  # Loss function suitable for classification\n",
    "optimizer_ft = optim.Adam(model_ft.parameters(), lr=0.0001, weight_decay=1e-5)  # Optimizer with learning rate and weight decay\n",
    "\n",
    "# Set the device for the model and criterion based on availability\n",
    "device = torch.device(\"cuda\" if torch.cuda.is_available() else \"mps\" if torch.backends.mps.is_available() else \"cpu\")\n",
    "model_ft.to(device)\n",
    "criterion.to(device)\n",
    "print(f\"Training on {device}\")\n",
    "\n",
    "# Execute the training process\n",
    "model_ft, accuracies, losses, preds, labels = train_model(\n",
    "    model_ft, criterion, optimizer_ft, exp_lr_scheduler, dset_loaders, dset_sizes, num_epochs=n_epochs\n",
    ")"
   ]
  },
  {
   "cell_type": "code",
   "execution_count": null,
   "metadata": {},
   "outputs": [],
   "source": [
    "# Loop through each data split (typically 'train' and 'val' for training and validation)\n",
    "for split in ['train', 'val']:\n",
    "    # Print accuracy and loss metrics for each epoch within the training and validation phases\n",
    "    print(split, 'accuracies by epoch:', accuracies[split])\n",
    "    print(split, 'losses by epoch:', losses[split])\n",
    "\n",
    "# Convert PyTorch tensors in the accuracies dictionary to NumPy arrays for better interoperability\n",
    "for key, value in accuracies.items():\n",
    "    # List comprehension to move each tensor in the list to the CPU and convert it to a NumPy array\n",
    "    new_value = [v.cpu().numpy() for v in value]\n",
    "    accuracies[key] = new_value  # Update the dictionary with the new list of NumPy arrays\n",
    "\n",
    "# Save the state dictionary of the model to a file for later use or deployment\n",
    "torch.save(model_ft.state_dict(), '../../models/MLP_VT_best_model.pt')\n",
    "\n",
    "# Assume plot_training_history and plot_confusion_matrix are defined elsewhere in the codebase.\n",
    "# These functions generate visualizations for the model's training history and performance.\n",
    "\n",
    "# Plot the training history using the updated accuracies and losses dictionaries.\n",
    "# This function will generate a plot showing the accuracy and loss over all training epochs.\n",
    "plot_training_history(accuracies, losses, 'MLP_VT')\n",
    "\n",
    "# Plot the confusion matrix for the model's predictions compared to the true labels.\n",
    "# This visualization helps in understanding the model's performance across different classes.\n",
    "plot_confusion_matrix(labels, preds, 'MLP_VT')\n"
   ]
  }
 ],
 "metadata": {
  "kernelspec": {
   "display_name": ".venv",
   "language": "python",
   "name": "python3"
  },
  "language_info": {
   "codemirror_mode": {
    "name": "ipython",
    "version": 3
   },
   "file_extension": ".py",
   "mimetype": "text/x-python",
   "name": "python",
   "nbconvert_exporter": "python",
   "pygments_lexer": "ipython3",
   "version": "3.9.6"
  }
 },
 "nbformat": 4,
 "nbformat_minor": 2
}
