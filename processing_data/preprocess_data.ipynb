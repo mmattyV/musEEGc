{
 "cells": [
  {
   "cell_type": "code",
   "execution_count": 1,
   "metadata": {
    "metadata": {}
   },
   "outputs": [],
   "source": [
    "from modules.constants import *"
   ]
  },
  {
   "cell_type": "code",
   "execution_count": null,
   "metadata": {},
   "outputs": [],
   "source": [
    "# Define a function to create directories if they do not exist.\n",
    "def create_dir(path):\n",
    "    if not os.path.exists(path):\n",
    "        os.makedirs(path)\n",
    "\n",
    "# Create directories for training and validation datasets.\n",
    "create_dir(train_dir)\n",
    "create_dir(val_dir)\n",
    "\n",
    "# Loop over subjects (num_sub) and sessions (num_sess) to process individual EEG files.\n",
    "for i in range(1, num_sub+1):\n",
    "    for j in range(1, num_sess+1):\n",
    "        # Construct the file path for the EEG data using formatted strings to ensure correct file naming.\n",
    "        data_path = f'../../ds003774/sub-0{i//10}{i%10}/ses-{j//10}{j%10}/eeg/sub-0{i//10}{i%10}_ses-{j//10}{j%10}_task-MusicListening_run-{j}_eeg.set'\n",
    "        # Read the EEG data using the MNE library, preloading it into memory.\n",
    "        raw = read_raw_eeglab(data_path, preload=True)\n",
    "\n",
    "        # Apply a high-pass filter with a cutoff at 0.2 Hz to remove slow drifts in the data.\n",
    "        raw.filter(l_freq=0.2, h_freq=None)\n",
    "\n",
    "        # Apply a notch filter at 50 Hz to remove electrical line noise.\n",
    "        raw.notch_filter(freqs=[50])\n",
    "\n",
    "        # Downsample the data to 256 Hz to reduce data size and computational complexity.\n",
    "        raw.resample(256)\n",
    "\n",
    "        # Select EEG channels and retrieve data and corresponding times.\n",
    "        picks = pick_types(raw.info, eeg=True, exclude=[])\n",
    "        data, times = raw.get_data(picks=picks, return_times=True)\n",
    "\n",
    "        # Calculate power spectral densities (PSDs) using Welch's method, focusing on frequencies from 2 to 40 Hz.\n",
    "        psds, freqs = psd_array_welch(data, sfreq=raw.info['sfreq'], fmin=2, fmax=40)\n",
    "\n",
    "        # Calculate the mean and a threshold for PSD; the threshold is set at 3 times the standard deviation.\n",
    "        psd_mean = psds.mean(axis=-1)\n",
    "        psd_threshold = 3 * np.std(psds, axis=-1)\n",
    "\n",
    "        # Identify and label bad channels based on the PSD criteria.\n",
    "        bad_channels = [raw.ch_names[p] for p in picks if psd_mean[p] > psd_threshold[p]]\n",
    "        raw.info['bads'] += bad_channels\n",
    "        # Interpolate data for the bad channels.\n",
    "        raw.interpolate_bads()\n",
    "\n",
    "        # Apply Independent Component Analysis (ICA) for artifact rejection.\n",
    "        ica = ICA(n_components=20, random_state=99, method='fastica')\n",
    "        ica.fit(raw)\n",
    "        ica.apply(raw)\n",
    "\n",
    "        # Re-reference the EEG data to the average reference.\n",
    "        raw.set_eeg_reference('average', projection=True)\n",
    "\n",
    "        # Save the preprocessed EEG data in FIF format, determining the path based on subject number.\n",
    "        pre_path = f'pre_eeg_sub-0{i//10}{i%10}_ses-{j//10}{j%10}_eeg.fif'\n",
    "        if i <= 16:\n",
    "            pre_path = os.path.join(train_dir, pre_path)  # Save to training directory for first 16 subjects.\n",
    "        else:\n",
    "            pre_path = os.path.join(val_dir, pre_path)  # Save to validation directory for others.\n",
    "        raw.save(pre_path, overwrite=True)  # Save the file, allowing overwriting if the file already exists.\n"
   ]
  },
  {
   "cell_type": "code",
   "execution_count": null,
   "metadata": {},
   "outputs": [],
   "source": []
  }
 ],
 "metadata": {
  "kernelspec": {
   "display_name": ".venv",
   "language": "python",
   "name": "python3"
  },
  "language_info": {
   "codemirror_mode": {
    "name": "ipython",
    "version": 3
   },
   "file_extension": ".py",
   "mimetype": "text/x-python",
   "name": "python",
   "nbconvert_exporter": "python",
   "pygments_lexer": "ipython3",
   "version": "3.9.6"
  }
 },
 "nbformat": 4,
 "nbformat_minor": 2
}
