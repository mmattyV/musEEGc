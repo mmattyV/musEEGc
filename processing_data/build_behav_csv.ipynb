{
 "cells": [
  {
   "cell_type": "code",
   "execution_count": 19,
   "metadata": {
    "metadata": {}
   },
   "outputs": [],
   "source": [
    "import pandas as pd\n",
    "\n",
    "# Manually inputting the data as lists\n",
    "data = {\n",
    "    'Subject': [1]*12 + [2]*12 + [3]*12 + [4]*12 + [5]*12 + [6]*12 + [7]*12 + [8]*12 + [9]*12 + [10]*12 + [11]*12 + [12]*12 + [13]*12 + [14]*12 + [15]*12 + [16]*12 + [17]*12 + [18]*12 + [19]*12 + [20]*12,\n",
    "    'Song_ID': [1, 2, 3, 4, 5, 6, 7, 8, 9, 10, 11, 12]*20,\n",
    "    'Enjoyment': [\n",
    "        2, 3, 3, 2, 2, 3, 3, 2, 1, 2, 1, 2, 3, 3, 2, 2, 3, 4, 2, 2, 2, 2, 1, 3,\n",
    "        4, 2, 4, 3, 4, 3, 2, 2, 3, 2, 2, 4, 4, 1, 1, 5, 3, 3, 2, 1, 1, 4, 1, 1,\n",
    "        2, 3, 3, 2, 4, 2, 3, 2, 2, 2, 4, 4, 2, 2, 2, 2, 2, 2, 3, 3, 3, 2, 2, 2,\n",
    "        2, 1, 1, 1, 1, 1, 2, 3, 4, 3, 3, 2, 3, 2, 2, 3, 4, 3, 3, 4, 5, 1, 2, 1,\n",
    "        3, 4, 3, 4, 2, 3, 1, 3, 2, 3, 3, 2, 3, 3, 4, 3, 3, 2, 2, 4, 4, 2, 2, 4,\n",
    "        2, 2, 3, 4, 3, 2, 1, 1, 1, 3, 3, 2, 3, 4, 5, 2, 4, 5, 1, 5, 5, 3, 2, 4,\n",
    "        3, 4, 4, 3, 1, 4, 2, 2, 4, 3, 3, 4, 2, 4, 4, 3, 4, 2, 1, 5, 4, 3, 4, 2,\n",
    "        2, 4, 5, 3, 2, 2, 3, 5, 4, 2, 3, 2, 2, 4, 3, 3, 4, 5, 3, 1, 3, 5, 4, 5,\n",
    "        3, 2, 2, 3, 4, 5, 3, 1, 4, 2, 1, 1, 4, 3, 5, 3, 4, 4, 2, 2, 3, 3, 1, 3,\n",
    "        3, 1, 2, 3, 2, 4, 3, 2, 2, 1, 1, 3, 2, 1, 1, 3, 3, 3, 3, 2, 2, 1, 1, 2\n",
    "    ],\n",
    "    'Familiarity': [\n",
    "        2, 2, 3, 2, 2, 3, 3, 2, 3, 3, 3, 2, 4, 4, 4, 5, 4, 3, 4, 2, 3, 4, 4, 4,\n",
    "        4, 2, 2, 3, 4, 4, 3, 2, 2, 3, 4, 3, 4, 2, 2, 4, 2, 3, 2, 1, 1, 4, 1, 2,\n",
    "        5, 5, 5, 5, 4, 5, 4, 4, 5, 5, 4, 4, 4, 1, 4, 4, 4, 4, 4, 4, 2, 4, 4, 4,\n",
    "        3, 1, 2, 1, 1, 1, 4, 4, 5, 5, 4, 4, 5, 1, 4, 4, 4, 3, 3, 3, 2, 5, 4, 2,\n",
    "        5, 3, 4, 4, 5, 5, 2, 1, 2, 4, 3, 4, 4, 4, 3, 4, 3, 4, 2, 4, 5, 2, 3, 3,\n",
    "        3, 3, 4, 4, 4, 4, 3, 1, 4, 4, 3, 3, 3, 5, 5, 5, 5, 5, 2, 5, 5, 5, 2, 4,\n",
    "        5, 5, 5, 5, 4, 5, 3, 3, 5, 5, 4, 5, 4, 5, 5, 5, 5, 5, 1, 3, 5, 5, 5, 5,\n",
    "        4, 4, 5, 3, 4, 4, 2, 4, 4, 3, 3, 2, 2, 4, 4, 3, 4, 5, 2, 1, 3, 5, 4, 5,\n",
    "        5, 2, 4, 4, 5, 4, 2, 4, 5, 4, 1, 3, 4, 2, 5, 4, 4, 5, 5, 3, 5, 4, 1, 2,\n",
    "        3, 3, 3, 4, 4, 5, 2, 3, 5, 3, 2, 3, 5, 5, 5, 5, 5, 5, 5, 3, 5, 4, 5, 5\n",
    "    ]\n",
    "}\n",
    "\n",
    "# Create DataFrame\n",
    "df = pd.DataFrame(data)\n",
    "\n",
    "# Split into train and validation datasets\n",
    "split_row = int(len(df) * 0.8)  # For example, 80% for training\n",
    "train_df = df.iloc[:split_row]\n",
    "val_df = df.iloc[split_row:]\n",
    "\n",
    "# Save DataFrame to CSV\n",
    "train_df.to_csv('../labels/train_behav.csv', index=False)\n",
    "val_df.to_csv('../labels/val_behav.csv', index=False)\n"
   ]
  },
  {
   "cell_type": "code",
   "execution_count": null,
   "metadata": {},
   "outputs": [],
   "source": []
  }
 ],
 "metadata": {
  "kernelspec": {
   "display_name": ".venv",
   "language": "python",
   "name": "python3"
  },
  "language_info": {
   "codemirror_mode": {
    "name": "ipython",
    "version": 3
   },
   "file_extension": ".py",
   "mimetype": "text/x-python",
   "name": "python",
   "nbconvert_exporter": "python",
   "pygments_lexer": "ipython3",
   "version": "3.9.6"
  }
 },
 "nbformat": 4,
 "nbformat_minor": 2
}
